{
 "cells": [
  {
   "cell_type": "code",
   "execution_count": 33,
   "metadata": {},
   "outputs": [
    {
     "name": "stdout",
     "output_type": "stream",
     "text": [
      "[nltk_data] Downloading package punkt to\n",
      "[nltk_data]     /Users/christianmorbidoni/nltk_data...\n",
      "[nltk_data]   Package punkt is already up-to-date!\n",
      "[nltk_data] Downloading package averaged_perceptron_tagger to\n",
      "[nltk_data]     /Users/christianmorbidoni/nltk_data...\n",
      "[nltk_data]   Package averaged_perceptron_tagger is already up-to-\n",
      "[nltk_data]       date!\n",
      "[nltk_data] Downloading package maxent_ne_chunker to\n",
      "[nltk_data]     /Users/christianmorbidoni/nltk_data...\n",
      "[nltk_data]   Package maxent_ne_chunker is already up-to-date!\n",
      "[nltk_data] Downloading package words to\n",
      "[nltk_data]     /Users/christianmorbidoni/nltk_data...\n",
      "[nltk_data]   Package words is already up-to-date!\n"
     ]
    },
    {
     "data": {
      "text/plain": [
       "True"
      ]
     },
     "execution_count": 33,
     "metadata": {},
     "output_type": "execute_result"
    }
   ],
   "source": [
    "import nltk\n",
    "import tkinter\n",
    "from IPython.display import display\n",
    "nltk.download('punkt')\n",
    "nltk.download('averaged_perceptron_tagger')\n",
    "nltk.download('maxent_ne_chunker')\n",
    "nltk.download('words')"
   ]
  },
  {
   "cell_type": "code",
   "execution_count": 29,
   "metadata": {},
   "outputs": [
    {
     "name": "stdout",
     "output_type": "stream",
     "text": [
      "['Trump', 'launches', '$', '34', 'billion', 'trade', 'war', 'against', 'China']\n"
     ]
    }
   ],
   "source": [
    "sentence_1 = '''President Donald Trump launches $34 billion trade war against China'''\n",
    "sentence_2 = '''Trump launches $34 billion trade war against China'''\n",
    "sentence_3 = '''In New York, I like to ride the Metro to visit MOMA\n",
    "                and some restaurants rated well by Ruth Reichl.'''\n",
    "tokenized_sent = nltk.word_tokenize(sentence_2)\n",
    "print(tokenized_sent)"
   ]
  },
  {
   "cell_type": "code",
   "execution_count": 30,
   "metadata": {},
   "outputs": [
    {
     "name": "stdout",
     "output_type": "stream",
     "text": [
      "[('Trump', 'NNP'), ('launches', 'VBZ'), ('$', '$'), ('34', 'CD'), ('billion', 'CD'), ('trade', 'NN'), ('war', 'NN'), ('against', 'IN'), ('China', 'NNP')]\n"
     ]
    }
   ],
   "source": [
    "tagged_sent = nltk.pos_tag(tokenized_sent)\n",
    "print(tagged_sent)"
   ]
  },
  {
   "cell_type": "code",
   "execution_count": 31,
   "metadata": {},
   "outputs": [
    {
     "data": {
      "image/png": "[encoded data removed]",
      "text/plain": [
       "Tree('S', [Tree('GPE', [('Trump', 'NNP')]), ('launches', 'VBZ'), ('$', '$'), ('34', 'CD'), ('billion', 'CD'), ('trade', 'NN'), ('war', 'NN'), ('against', 'IN'), Tree('GPE', [('China', 'NNP')])])"
      ]
     },
     "metadata": {},
     "output_type": "display_data"
    }
   ],
   "source": [
    "ne_ch = nltk.ne_chunk(tagged_sent)\n",
    "display(ne_ch, width=10)"
   ]
  },
  {
   "cell_type": "code",
   "execution_count": 32,
   "metadata": {},
   "outputs": [
    {
     "name": "stdout",
     "output_type": "stream",
     "text": [
      "(S\n",
      "  (GPE Trump/NNP)\n",
      "  launches/VBZ\n",
      "  $/$\n",
      "  34/CD\n",
      "  billion/CD\n",
      "  trade/NN\n",
      "  war/NN\n",
      "  against/IN\n",
      "  (GPE China/NNP))\n"
     ]
    }
   ],
   "source": [
    "print(ne_ch)"
   ]
  },
  {
   "cell_type": "code",
   "execution_count": null,
   "metadata": {
    "collapsed": true
   },
   "outputs": [],
   "source": []
  }
 ],
 "metadata": {
  "kernelspec": {
   "display_name": "Python 3",
   "language": "python",
   "name": "python3"
  },
  "language_info": {
   "codemirror_mode": {
    "name": "ipython",
    "version": 3
   },
   "file_extension": ".py",
   "mimetype": "text/x-python",
   "name": "python",
   "nbconvert_exporter": "python",
   "pygments_lexer": "ipython3",
   "version": "3.6.1"
  }
 },
 "nbformat": 4,
 "nbformat_minor": 2
}
